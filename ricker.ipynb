{
 "cells": [
  {
   "cell_type": "code",
   "execution_count": null,
   "metadata": {},
   "outputs": [],
   "source": [
    "using Plots\n",
    "plot();"
   ]
  },
  {
   "cell_type": "code",
   "execution_count": null,
   "metadata": {},
   "outputs": [],
   "source": [
    "function life(k, r, gens)\n",
    "    Ns = Float64[8]\n",
    "    for gen in 1:gens\n",
    "        Nt = Ns[end]\n",
    "        push!(Ns, Nt*exp(r*(1-Nt/k)))\n",
    "    end\n",
    "    return Ns\n",
    "end"
   ]
  },
  {
   "cell_type": "markdown",
   "metadata": {},
   "source": [
    " # N<sub>T</sub> vs T"
   ]
  },
  {
   "cell_type": "code",
   "execution_count": null,
   "metadata": {},
   "outputs": [],
   "source": [
    "lts = Dict(100=>:dot, 1000=>:dash, 10000=>:solid)\n",
    "for r in [1,2,3]\n",
    "    p = plot(title=\"Nt vs T\\nR = $(r)\", xaxis=\"Gens\", yaxis=(\"N_T_\", :log))\n",
    "    for k in [100,1000,10000]\n",
    "        plot!(life(k, r, 50), label=\"k = $(k)\", line=lts[k], width=3, color=:black)\n",
    "    end\n",
    "    display(current())\n",
    "    savefig(\"Nt_t_r_$(r)\")\n",
    "end"
   ]
  },
  {
   "cell_type": "markdown",
   "metadata": {},
   "source": [
    "# N<sub>e</sub> vs k"
   ]
  },
  {
   "cell_type": "code",
   "execution_count": null,
   "metadata": {},
   "outputs": [],
   "source": [
    "r = 1.5\n",
    "plot(title=\"Ne vs k\\nr=1.5, Gs = 100/2000\", xaxis=:log, yaxis=:log)\n",
    "for k in [100, 1000, 10000]\n",
    "    plot!(fill(k, 100), life(k, r, 2000)[end-99:end], st=:scatter, label=\"\")\n",
    "end\n",
    "display(current())\n",
    "savefig(current(), \"Ne vs k_r=1.5\")"
   ]
  },
  {
   "cell_type": "code",
   "execution_count": null,
   "metadata": {},
   "outputs": [],
   "source": [
    "k = 100\n",
    "plot(title=\"Ne vs r\\nk=100, Gs = 100/2000\")\n",
    "for r in 1:3\n",
    "    plot!(fill(r, 100), life(k,r, 2000)[end-99:end], st=:scatter, label=\"\")\n",
    "end\n",
    "display(current())\n",
    "savefig(current(), \"Ne vs r_k=100\")"
   ]
  },
  {
   "cell_type": "code",
   "execution_count": null,
   "metadata": {},
   "outputs": [],
   "source": []
  }
 ],
 "metadata": {
  "@webio": {
   "lastCommId": null,
   "lastKernelId": null
  },
  "kernelspec": {
   "display_name": "Julia 1.3.1",
   "language": "julia",
   "name": "julia-1.3"
  },
  "language_info": {
   "file_extension": ".jl",
   "mimetype": "application/julia",
   "name": "julia",
   "version": "1.3.1"
  },
  "latex_envs": {
   "LaTeX_envs_menu_present": true,
   "autoclose": false,
   "autocomplete": true,
   "bibliofile": "biblio.bib",
   "cite_by": "apalike",
   "current_citInitial": 1,
   "eqLabelWithNumbers": true,
   "eqNumInitial": 1,
   "hotkeys": {
    "equation": "Ctrl-E",
    "itemize": "Ctrl-I"
   },
   "labels_anchors": false,
   "latex_user_defs": false,
   "report_style_numbering": false,
   "user_envs_cfg": false
  },
  "toc": {
   "base_numbering": 1,
   "nav_menu": {},
   "number_sections": true,
   "sideBar": true,
   "skip_h1_title": false,
   "title_cell": "Table of Contents",
   "title_sidebar": "Contents",
   "toc_cell": false,
   "toc_position": {},
   "toc_section_display": true,
   "toc_window_display": false
  }
 },
 "nbformat": 4,
 "nbformat_minor": 4
}
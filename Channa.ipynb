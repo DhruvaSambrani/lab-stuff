{
 "cells": [
  {
   "cell_type": "code",
   "execution_count": 1,
   "metadata": {
    "ExecuteTime": {
     "end_time": "2020-01-22T15:29:03.837000+05:30",
     "start_time": "2020-01-22T09:56:58.324Z"
    }
   },
   "outputs": [],
   "source": [
    "using StatsBase\n",
    "using Plots"
   ]
  },
  {
   "cell_type": "code",
   "execution_count": 2,
   "metadata": {
    "ExecuteTime": {
     "end_time": "2020-01-22T15:31:58.052000+05:30",
     "start_time": "2020-01-22T10:01:09.075Z"
    }
   },
   "outputs": [
    {
     "data": {
      "text/html": [
       "<script>\n",
       "// Immediately-invoked-function-expression to avoid global variables.\n",
       "(function() {\n",
       "    var warning_div = document.getElementById(\"webio-warning-17013501768854192631\");\n",
       "    var hide = function () {\n",
       "        var script = document.getElementById(\"webio-setup-7855290713385368490\");\n",
       "        var parent = script && script.parentElement;\n",
       "        var grandparent = parent && parent.parentElement;\n",
       "        if (grandparent) {\n",
       "            grandparent.style.display = \"none\";\n",
       "        }\n",
       "        warning_div.style.display = \"none\";\n",
       "    };\n",
       "    if (typeof Jupyter !== \"undefined\") {\n",
       "        console.log(\"WebIO detected Jupyter notebook environment.\");\n",
       "        // Jupyter notebook.\n",
       "        var extensions = (\n",
       "            Jupyter\n",
       "            && Jupyter.notebook.config.data\n",
       "            && Jupyter.notebook.config.data.load_extensions\n",
       "        );\n",
       "        if (extensions && extensions[\"webio-jupyter-notebook\"]) {\n",
       "            // Extension already loaded.\n",
       "            console.log(\"Jupyter WebIO nbextension detected; not loading ad-hoc.\");\n",
       "            hide();\n",
       "            return;\n",
       "        }\n",
       "    } else if (window.location.pathname.includes(\"/lab\")) {\n",
       "        // Guessing JupyterLa\n",
       "        console.log(\"Jupyter Lab detected; make sure the @webio/jupyter-lab-provider labextension is installed.\");\n",
       "        hide();\n",
       "        return;\n",
       "    }\n",
       "})();\n",
       "\n",
       "</script>\n",
       "<p\n",
       "    id=\"webio-warning-17013501768854192631\"\n",
       "    class=\"output_text output_stderr\"\n",
       "    style=\"padding: 1em; font-weight: bold;\"\n",
       ">\n",
       "    Unable to load WebIO. Please make sure WebIO works for your Jupyter client.\n",
       "    For troubleshooting, please see <a href=\"https://juliagizmos.github.io/WebIO.jl/latest/providers/ijulia/\">\n",
       "    the WebIO/IJulia documentation</a>.\n",
       "    <!-- TODO: link to installation docs. -->\n",
       "</p>\n"
      ],
      "text/plain": [
       "HTML{String}(\"<script>\\n// Immediately-invoked-function-expression to avoid global variables.\\n(function() {\\n    var warning_div = document.getElementById(\\\"webio-warning-17013501768854192631\\\");\\n    var hide = function () {\\n        var script = document.getElementById(\\\"webio-setup-7855290713385368490\\\");\\n        var parent = script && script.parentElement;\\n        var grandparent = parent && parent.parentElement;\\n        if (grandparent) {\\n            grandparent.style.display = \\\"none\\\";\\n        }\\n        warning_div.style.display = \\\"none\\\";\\n    };\\n    if (typeof Jupyter !== \\\"undefined\\\") {\\n        console.log(\\\"WebIO detected Jupyter notebook environment.\\\");\\n        // Jupyter notebook.\\n        var extensions = (\\n            Jupyter\\n            && Jupyter.notebook.config.data\\n            && Jupyter.notebook.config.data.load_extensions\\n        );\\n        if (extensions && extensions[\\\"webio-jupyter-notebook\\\"]) {\\n            // Extension already loaded.\\n            console.log(\\\"Jupyter WebIO nbextension detected; not loading ad-hoc.\\\");\\n            hide();\\n            return;\\n        }\\n    } else if (window.location.pathname.includes(\\\"/lab\\\")) {\\n        // Guessing JupyterLa\\n        console.log(\\\"Jupyter Lab detected; make sure the @webio/jupyter-lab-provider labextension is installed.\\\");\\n        hide();\\n        return;\\n    }\\n})();\\n\\n</script>\\n<p\\n    id=\\\"webio-warning-17013501768854192631\\\"\\n    class=\\\"output_text output_stderr\\\"\\n    style=\\\"padding: 1em; font-weight: bold;\\\"\\n>\\n    Unable to load WebIO. Please make sure WebIO works for your Jupyter client.\\n    For troubleshooting, please see <a href=\\\"https://juliagizmos.github.io/WebIO.jl/latest/providers/ijulia/\\\">\\n    the WebIO/IJulia documentation</a>.\\n    <!-- TODO: link to installation docs. -->\\n</p>\\n\")"
      ]
     },
     "metadata": {},
     "output_type": "display_data"
    }
   ],
   "source": [
    "plotlyjs()\n",
    "plot();"
   ]
  },
  {
   "cell_type": "code",
   "execution_count": 11,
   "metadata": {
    "ExecuteTime": {
     "start_time": "2020-01-22T10:02:01.918Z"
    }
   },
   "outputs": [],
   "source": [
    "total = 500\n",
    "marks = 1:500\n",
    "recaptures = 1:500\n",
    "list_of_points = []\n",
    "for n_marked in marks\n",
    "    marked = sample(1:total,n_marked,replace=false)\n",
    "    for n_recaptured in recaptures\n",
    "        #println(\"Number of marked = $(n_marked) Number of recaptures = $(n_recaptured)\")\n",
    "        #println(\"Number of marked\\tEstimated Number\")\n",
    "        sum = 0\n",
    "        for i in 1:5\n",
    "            samples = sample(1:total,n_recaptured,replace=false)\n",
    "            count_marked = length(intersect(Set(samples),Set(marked)))\n",
    "            sum += count_marked\n",
    "            est = n_marked*n_recaptured/count_marked\n",
    "            #println(\"$(count_marked)\\t\\t\\t$(est)\")\n",
    "        end\n",
    "        avg_est = n_marked*n_recaptured*5/sum\n",
    "        push!(list_of_points,(float(n_marked),float(n_recaptured),abs(avg_est-total)/total))\n",
    "        #println(\"\")\n",
    "    end\n",
    "end"
   ]
  },
  {
   "cell_type": "code",
   "execution_count": 17,
   "metadata": {},
   "outputs": [
    {
     "ename": "ErrorException",
     "evalue": "Cannot convert Tuple{Float64,Float64,Float64} to series data for plotting",
     "output_type": "error",
     "traceback": [
      "Cannot convert Tuple{Float64,Float64,Float64} to series data for plotting",
      "",
      "Stacktrace:",
      " [1] error(::String) at .\\error.jl:33",
      " [2] prepareSeriesData(::Tuple{Float64,Float64,Float64}) at C:\\Users\\dhruv\\.julia\\packages\\Plots\\qZHsp\\src\\series.jl:14",
      " [3] convertToAnyVector(::Tuple{Float64,Float64,Float64}, ::Dict{Symbol,Any}) at C:\\Users\\dhruv\\.julia\\packages\\Plots\\qZHsp\\src\\series.jl:26",
      " [4] (::getfield(Plots, Symbol(\"##152#155\")){Dict{Symbol,Any}})(::Tuple{Float64,Float64,Float64}) at .\\none:0",
      " [5] iterate(::Base.Generator{Array{Any,1},getfield(Plots, Symbol(\"##152#155\")){Dict{Symbol,Any}}}) at .\\generator.jl:47",
      " [6] append_any(::Any, ::Vararg{Any,N} where N) at .\\essentials.jl:722",
      " [7] convertToAnyVector(::Array{Any,1}, ::Dict{Symbol,Any}) at C:\\Users\\dhruv\\.julia\\packages\\Plots\\qZHsp\\src\\series.jl:41",
      " [8] macro expansion at C:\\Users\\dhruv\\.julia\\packages\\Plots\\qZHsp\\src\\series.jl:130 [inlined]",
      " [9] apply_recipe(::Dict{Symbol,Any}, ::Type{Plots.SliceIt}, ::Nothing, ::Array{Any,1}, ::Nothing) at C:\\Users\\dhruv\\.julia\\packages\\RecipesBase\\zBoFG\\src\\RecipesBase.jl:275",
      " [10] _process_userrecipes(::Plots.Plot{Plots.PlotlyJSBackend}, ::Dict{Symbol,Any}, ::Tuple{Array{Any,1}}) at C:\\Users\\dhruv\\.julia\\packages\\Plots\\qZHsp\\src\\pipeline.jl:83",
      " [11] _plot!(::Plots.Plot{Plots.PlotlyJSBackend}, ::Dict{Symbol,Any}, ::Tuple{Array{Any,1}}) at C:\\Users\\dhruv\\.julia\\packages\\Plots\\qZHsp\\src\\plot.jl:178",
      " [12] #plot#138(::Base.Iterators.Pairs{Symbol,Symbol,Tuple{Symbol},NamedTuple{(:st,),Tuple{Symbol}}}, ::typeof(plot), ::Array{Any,1}) at C:\\Users\\dhruv\\.julia\\packages\\Plots\\qZHsp\\src\\plot.jl:57",
      " [13] (::getfield(RecipesBase, Symbol(\"#kw##plot\")))(::NamedTuple{(:st,),Tuple{Symbol}}, ::typeof(plot), ::Array{Any,1}) at .\\none:0",
      " [14] top-level scope at In[17]:2"
     ]
    }
   ],
   "source": [
    "to_plot = collect(sample(list_of_points, 10, replace=false))\n",
    "plot(to_plot, st=:surface)"
   ]
  },
  {
   "cell_type": "code",
   "execution_count": 16,
   "metadata": {},
   "outputs": [
    {
     "data": {
      "text/plain": [
       "54.0"
      ]
     },
     "execution_count": 16,
     "metadata": {},
     "output_type": "execute_result"
    }
   ],
   "source": []
  },
  {
   "cell_type": "code",
   "execution_count": null,
   "metadata": {},
   "outputs": [],
   "source": []
  }
 ],
 "metadata": {
  "kernelspec": {
   "display_name": "Julia 1.2.0",
   "language": "julia",
   "name": "julia-1.2"
  },
  "language_info": {
   "file_extension": ".jl",
   "mimetype": "application/julia",
   "name": "julia",
   "version": "1.2.0"
  },
  "toc": {
   "base_numbering": 1,
   "nav_menu": {},
   "number_sections": true,
   "sideBar": true,
   "skip_h1_title": true,
   "title_cell": "Table of Contents",
   "title_sidebar": "Table of Contents",
   "toc_cell": false,
   "toc_position": {},
   "toc_section_display": true,
   "toc_window_display": false
  },
  "varInspector": {
   "cols": {
    "lenName": 16,
    "lenType": 16,
    "lenVar": 40
   },
   "kernels_config": {
    "python": {
     "delete_cmd_postfix": "",
     "delete_cmd_prefix": "del ",
     "library": "var_list.py",
     "varRefreshCmd": "print(var_dic_list())"
    },
    "r": {
     "delete_cmd_postfix": ") ",
     "delete_cmd_prefix": "rm(",
     "library": "var_list.r",
     "varRefreshCmd": "cat(var_dic_list()) "
    }
   },
   "types_to_exclude": [
    "module",
    "function",
    "builtin_function_or_method",
    "instance",
    "_Feature"
   ],
   "window_display": false
  }
 },
 "nbformat": 4,
 "nbformat_minor": 4
}

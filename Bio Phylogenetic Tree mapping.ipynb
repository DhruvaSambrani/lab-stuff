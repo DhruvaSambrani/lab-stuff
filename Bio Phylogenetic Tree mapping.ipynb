{
 "cells": [
  {
   "cell_type": "code",
   "execution_count": 14,
   "metadata": {
    "ExecuteTime": {
     "end_time": "2019-11-05T22:44:35.798000+05:30",
     "start_time": "2019-11-05T17:14:35.781Z"
    }
   },
   "outputs": [],
   "source": [
    "using StatsBase"
   ]
  },
  {
   "cell_type": "code",
   "execution_count": 21,
   "metadata": {
    "ExecuteTime": {
     "end_time": "2019-11-05T22:45:46.174000+05:30",
     "start_time": "2019-11-05T17:15:46.169Z"
    }
   },
   "outputs": [
    {
     "data": {
      "text/plain": [
       "mutate (generic function with 1 method)"
      ]
     },
     "execution_count": 21,
     "metadata": {},
     "output_type": "execute_result"
    }
   ],
   "source": [
    "function mutate(genseq, nmut, mut_seq, name)\n",
    "    newseq = genseq[1:end]\n",
    "    locs = sample(1:100, nmut, replace = false)\n",
    "    mut = rand(1:4,nmut)\n",
    "    println(\"name \", name)\n",
    "    println(\"number of mutations \",nmut)\n",
    "    println(\"locations \", locs)\n",
    "    for i in 1:nmut\n",
    "        while genseq[locs[i]] == mut[i]\n",
    "            mut[i]=rand(1:4)\n",
    "        end\n",
    "        newseq[locs[i]]=mut[i]\n",
    "    end\n",
    "    println(\"mutationto \", mut)\n",
    "    push!(mut_seq, newseq)\n",
    "end"
   ]
  },
  {
   "cell_type": "code",
   "execution_count": 16,
   "metadata": {
    "ExecuteTime": {
     "end_time": "2019-11-05T22:44:44.290000+05:30",
     "start_time": "2019-11-05T17:14:44.284Z"
    }
   },
   "outputs": [
    {
     "data": {
      "text/plain": [
       "15-element Array{Int64,1}:\n",
       "  3\n",
       "  5\n",
       "  2\n",
       "  4\n",
       "  6\n",
       "  4\n",
       "  5\n",
       " 13\n",
       " 13\n",
       " 11\n",
       " 11\n",
       " 16\n",
       " 16\n",
       " 15\n",
       " 15"
      ]
     },
     "execution_count": 16,
     "metadata": {},
     "output_type": "execute_result"
    }
   ],
   "source": [
    "sp_names = [\n",
    "    \"Ancestor 1\", \n",
    "    \"Ancestor 2\", \"Ancestor 3\", \n",
    "    \"Ancestor 4\", \"Ancestor 5\", \"Ancestor 6\", \"Ancestor 7\",\n",
    "    \"Flareon\", \"Espeon\", \"Leafeon\", \"Jolteon\", \"Sylveon\", \"Umbreon\", \"Vaporeon\",\"Glaceon\"]\n",
    "num_mut = rand(2:7, 7)\n",
    "push!(num_mut, 25 - (num_mut[1]+num_mut[2]+num_mut[4]))\n",
    "push!(num_mut, 25 - (num_mut[1]+num_mut[2]+num_mut[4]))\n",
    "push!(num_mut, 25 - (num_mut[1]+num_mut[2]+num_mut[5]))\n",
    "push!(num_mut, 25 - (num_mut[1]+num_mut[2]+num_mut[5]))\n",
    "push!(num_mut, 25 - (num_mut[1]+num_mut[3]+num_mut[6]))\n",
    "push!(num_mut, 25 - (num_mut[1]+num_mut[3]+num_mut[6]))\n",
    "push!(num_mut, 25 - (num_mut[1]+num_mut[3]+num_mut[7]))\n",
    "push!(num_mut, 25 - (num_mut[1]+num_mut[3]+num_mut[7]))\n",
    "num_mut"
   ]
  },
  {
   "cell_type": "code",
   "execution_count": 22,
   "metadata": {
    "ExecuteTime": {
     "end_time": "2019-11-05T22:45:49.748000+05:30",
     "start_time": "2019-11-05T17:15:49.497Z"
    }
   },
   "outputs": [
    {
     "name": "stdout",
     "output_type": "stream",
     "text": [
      "name Ancestor 1\n",
      "number of mutations 3\n",
      "locations [48, 99, 91]\n",
      "mutationto [3, 1, 4]\n",
      "name Ancestor 2\n",
      "number of mutations 5\n",
      "locations [59, 69, 2, 37, 93]\n",
      "mutationto [1, 4, 3, 3, 1]\n",
      "name Ancestor 3\n",
      "number of mutations 2\n",
      "locations [33, 57]\n",
      "mutationto [4, 4]\n",
      "name Ancestor 4\n",
      "number of mutations 4\n",
      "locations [51, 85, 60, 75]\n",
      "mutationto [1, 1, 4, 2]\n",
      "name Ancestor 5\n",
      "number of mutations 6\n",
      "locations [14, 19, 89, 78, 7, 75]\n",
      "mutationto [2, 1, 3, 2, 1, 2]\n",
      "name Ancestor 6\n",
      "number of mutations 4\n",
      "locations [70, 62, 9, 4]\n",
      "mutationto [2, 4, 1, 2]\n",
      "name Ancestor 7\n",
      "number of mutations 5\n",
      "locations [26, 66, 53, 49, 17]\n",
      "mutationto [3, 1, 3, 3, 3]\n",
      "name Flareon\n",
      "number of mutations 13\n",
      "locations [8, 100, 14, 51, 49, 71, 22, 5, 93, 60, 63, 23, 36]\n",
      "mutationto [1, 2, 1, 4, 2, 2, 2, 2, 4, 2, 3, 1, 2]\n",
      "name Espeon\n",
      "number of mutations 13\n",
      "locations [93, 84, 89, 58, 42, 92, 13, 3, 51, 66, 47, 70, 46]\n",
      "mutationto [4, 3, 4, 3, 3, 1, 3, 3, 3, 3, 4, 1, 2]\n",
      "name Leafeon\n",
      "number of mutations 11\n",
      "locations [33, 58, 49, 82, 32, 7, 66, 55, 38, 17, 31]\n",
      "mutationto [3, 1, 2, 1, 2, 3, 3, 1, 4, 2, 2]\n",
      "name Jolteon\n",
      "number of mutations 11\n",
      "locations [41, 74, 90, 82, 99, 35, 81, 1, 71, 94, 86]\n",
      "mutationto [1, 2, 2, 2, 2, 1, 1, 1, 1, 1, 1]\n",
      "name Sylveon\n",
      "number of mutations 16\n",
      "locations [59, 100, 62, 90, 38, 97, 64, 8, 52, 60, 77, 2, 87, 49, 32, 84]\n",
      "mutationto [2, 2, 1, 1, 3, 3, 2, 2, 3, 2, 1, 4, 4, 2, 1, 2]\n",
      "name Umbreon\n",
      "number of mutations 16\n",
      "locations [86, 80, 29, 85, 35, 12, 73, 99, 71, 4, 44, 97, 45, 7, 53, 1]\n",
      "mutationto [3, 3, 1, 3, 1, 3, 4, 3, 4, 3, 4, 4, 1, 1, 2, 1]\n",
      "name Vaporeon\n",
      "number of mutations 15\n",
      "locations [34, 90, 22, 61, 79, 12, 62, 91, 99, 23, 92, 69, 1, 77, 89]\n",
      "mutationto [4, 2, 4, 4, 3, 2, 4, 2, 3, 1, 3, 4, 2, 2, 3]\n",
      "name Glaceon\n",
      "number of mutations 15\n",
      "locations [2, 11, 76, 26, 56, 32, 55, 96, 18, 12, 6, 67, 48, 15, 19]\n",
      "mutationto [2, 2, 4, 2, 4, 2, 4, 4, 2, 3, 3, 3, 1, 4, 2]\n"
     ]
    },
    {
     "data": {
      "text/plain": [
       "15-element Array{Any,1}:\n",
       " [3, 1, 2, 1, 3, 1, 2, 4, 2, 1  …  4, 4, 4, 3, 1, 3, 2, 1, 1, 4]\n",
       " [3, 3, 2, 1, 3, 1, 2, 4, 2, 1  …  4, 4, 1, 3, 1, 3, 2, 1, 1, 4]\n",
       " [3, 1, 2, 1, 3, 1, 2, 4, 2, 1  …  4, 4, 4, 3, 1, 3, 2, 1, 1, 4]\n",
       " [3, 3, 2, 1, 3, 1, 2, 4, 2, 1  …  4, 4, 1, 3, 1, 3, 2, 1, 1, 4]\n",
       " [3, 3, 2, 1, 3, 1, 1, 4, 2, 1  …  4, 4, 1, 3, 1, 3, 2, 1, 1, 4]\n",
       " [3, 1, 2, 2, 3, 1, 2, 4, 1, 1  …  4, 4, 4, 3, 1, 3, 2, 1, 1, 4]\n",
       " [3, 1, 2, 1, 3, 1, 2, 4, 2, 1  …  4, 4, 4, 3, 1, 3, 2, 1, 1, 4]\n",
       " [3, 3, 2, 1, 2, 1, 2, 1, 2, 1  …  4, 4, 4, 3, 1, 3, 2, 1, 1, 2]\n",
       " [3, 3, 3, 1, 3, 1, 2, 4, 2, 1  …  4, 1, 4, 3, 1, 3, 2, 1, 1, 4]\n",
       " [3, 3, 2, 1, 3, 1, 3, 4, 2, 1  …  4, 4, 1, 3, 1, 3, 2, 1, 1, 4]\n",
       " [1, 3, 2, 1, 3, 1, 1, 4, 2, 1  …  4, 4, 1, 1, 1, 3, 2, 1, 2, 4]\n",
       " [3, 4, 2, 2, 3, 1, 2, 2, 1, 1  …  4, 4, 4, 3, 1, 3, 3, 1, 1, 2]\n",
       " [1, 1, 2, 3, 3, 1, 1, 4, 1, 1  …  4, 4, 4, 3, 1, 3, 4, 1, 3, 4]\n",
       " [2, 1, 2, 1, 3, 1, 2, 4, 2, 1  …  2, 3, 4, 3, 1, 3, 2, 1, 3, 4]\n",
       " [3, 2, 2, 1, 3, 3, 2, 4, 2, 1  …  4, 4, 4, 3, 1, 4, 2, 1, 1, 4]"
      ]
     },
     "execution_count": 22,
     "metadata": {},
     "output_type": "execute_result"
    }
   ],
   "source": [
    "grand = [3, 1, 2, 1, 3, 1, 2, 4, 2, 1, 4, 4, 1, 3, 2, 4, 1, 4, 4, 1, 1, 1, 4, 2, 4, 1, 3, 3, 2, 4, 4, 3, 1, 3, 3, 1, 2, 2, 4, 4, 3, 2, 3, 1, 2, 3, 1, 4, 1, 2, 2, 1, 4, 1, 2, 1, 1, 4, 4, 3, 2, 3, 4, 4, 1, 2, 2, 3, 1, 4, 3, 2, 3, 3, 4, 2, 3, 3, 4, 2, 3, 3, 1, 4, 4, 2, 3, 1, 1, 4, 3, 4, 4, 3, 1, 3, 2, 1, 3, 4]\n",
    "mut_seqs = []\n",
    "mutate(grand, num_mut[1], mut_seqs, sp_names[1])\n",
    "mutate(mut_seqs[1], num_mut[2], mut_seqs, sp_names[2])\n",
    "mutate(mut_seqs[1], num_mut[3], mut_seqs, sp_names[3])\n",
    "mutate(mut_seqs[2], num_mut[4], mut_seqs, sp_names[4])\n",
    "mutate(mut_seqs[2], num_mut[5], mut_seqs, sp_names[5])\n",
    "mutate(mut_seqs[3], num_mut[6], mut_seqs, sp_names[6])\n",
    "mutate(mut_seqs[3], num_mut[7], mut_seqs, sp_names[7])\n",
    "mutate(mut_seqs[4], num_mut[8], mut_seqs, sp_names[8])\n",
    "mutate(mut_seqs[4], num_mut[9], mut_seqs, sp_names[9])\n",
    "mutate(mut_seqs[5], num_mut[10], mut_seqs, sp_names[10])\n",
    "mutate(mut_seqs[5], num_mut[11], mut_seqs, sp_names[11])\n",
    "mutate(mut_seqs[6], num_mut[12], mut_seqs, sp_names[12])\n",
    "mutate(mut_seqs[6], num_mut[13], mut_seqs, sp_names[13])\n",
    "mutate(mut_seqs[7], num_mut[14], mut_seqs, sp_names[14])\n",
    "mutate(mut_seqs[7], num_mut[15], mut_seqs, sp_names[15])\n",
    "mut_seqs"
   ]
  },
  {
   "cell_type": "code",
   "execution_count": 24,
   "metadata": {
    "ExecuteTime": {
     "end_time": "2019-11-05T22:51:33.262000+05:30",
     "start_time": "2019-11-05T17:21:33.173Z"
    }
   },
   "outputs": [
    {
     "data": {
      "text/plain": [
       "pretty_print (generic function with 1 method)"
      ]
     },
     "execution_count": 24,
     "metadata": {},
     "output_type": "execute_result"
    }
   ],
   "source": [
    "function pretty_print(i)\n",
    "    println(sp_names[i])\n",
    "    println(join(mut_seqs[i], \",\"))\n",
    "end"
   ]
  },
  {
   "cell_type": "code",
   "execution_count": 26,
   "metadata": {
    "ExecuteTime": {
     "end_time": "2019-11-05T22:52:11.060000+05:30",
     "start_time": "2019-11-05T17:22:10.941Z"
    }
   },
   "outputs": [
    {
     "name": "stdout",
     "output_type": "stream",
     "text": [
      "Flareon\n",
      "3,3,2,1,2,1,2,1,2,1,4,4,1,1,2,4,1,4,4,1,1,2,1,2,4,1,3,3,2,4,4,3,1,3,3,2,3,2,4,4,3,2,3,1,2,3,1,3,2,2,4,1,4,1,2,1,1,4,1,2,2,3,3,4,1,2,2,3,4,4,2,2,3,3,2,2,3,3,4,2,3,3,1,4,1,2,3,1,1,4,4,4,4,3,1,3,2,1,1,2\n",
      " \n",
      "Espeon\n",
      "3,3,3,1,3,1,2,4,2,1,4,4,3,3,2,4,1,4,4,1,1,1,4,2,4,1,3,3,2,4,4,3,1,3,3,1,3,2,4,4,3,3,3,1,2,2,4,3,1,2,3,1,4,1,2,1,1,3,1,4,2,3,4,4,1,3,2,3,4,1,3,2,3,3,2,2,3,3,4,2,3,3,1,3,1,2,3,1,4,4,4,1,4,3,1,3,2,1,1,4\n",
      " \n",
      "Leafeon\n",
      "3,3,2,1,3,1,3,4,2,1,4,4,1,2,2,4,2,4,1,1,1,1,4,2,4,1,3,3,2,4,2,2,3,3,3,1,3,4,4,4,3,2,3,1,2,3,1,3,2,2,2,1,4,1,1,1,1,1,1,3,2,3,4,4,1,3,2,3,4,4,3,2,3,3,2,2,3,2,4,2,3,1,1,4,4,2,3,1,3,4,4,4,1,3,1,3,2,1,1,4\n",
      " \n",
      "Jolteon\n",
      "1,3,2,1,3,1,1,4,2,1,4,4,1,2,2,4,1,4,1,1,1,1,4,2,4,1,3,3,2,4,4,3,1,3,1,1,3,2,4,4,1,2,3,1,2,3,1,3,1,2,2,1,4,1,2,1,1,4,1,3,2,3,4,4,1,2,2,3,4,4,1,2,3,2,2,2,3,2,4,2,1,2,1,4,4,1,3,1,3,2,4,4,1,1,1,3,2,1,2,4\n",
      " \n",
      "Sylveon\n",
      "3,4,2,2,3,1,2,2,1,1,4,4,1,3,2,4,1,4,4,1,1,1,4,2,4,1,3,3,2,4,4,1,4,3,3,1,2,3,4,4,3,2,3,1,2,3,1,3,2,2,2,3,4,1,2,1,4,4,2,2,2,1,4,2,1,2,2,3,1,2,3,2,3,3,4,2,1,3,4,2,3,3,1,2,4,2,4,1,1,1,4,4,4,3,1,3,3,1,1,2\n",
      " \n",
      "Umbreon\n",
      "1,1,2,3,3,1,1,4,1,1,4,3,1,3,2,4,1,4,4,1,1,1,4,2,4,1,3,3,1,4,4,3,4,3,1,1,2,2,4,4,3,2,3,4,1,3,1,3,1,2,2,1,2,1,2,1,4,4,4,3,2,4,4,4,1,2,2,3,1,2,4,2,4,3,4,2,3,3,4,3,3,3,1,4,3,3,3,1,1,4,4,4,4,3,1,3,4,1,3,4\n",
      " \n",
      "Vaporeon\n",
      "2,1,2,1,3,1,2,4,2,1,4,2,1,3,2,4,3,4,4,1,1,4,1,2,4,3,3,3,2,4,4,3,4,4,3,1,2,2,4,4,3,2,3,1,2,3,1,3,3,2,2,1,3,1,2,1,4,4,4,3,4,4,4,4,1,1,2,3,4,4,3,2,3,3,4,2,2,3,3,2,3,3,1,4,4,2,3,1,3,2,2,3,4,3,1,3,2,1,3,4\n",
      " \n",
      "Glaceon\n",
      "3,2,2,1,3,3,2,4,2,1,2,3,1,3,4,4,3,2,2,1,1,1,4,2,4,2,3,3,2,4,4,2,4,3,3,1,2,2,4,4,3,2,3,1,2,3,1,1,3,2,2,1,3,1,4,4,4,4,4,3,2,3,4,4,1,1,3,3,1,4,3,2,3,3,4,4,3,3,4,2,3,3,1,4,4,2,3,1,1,4,4,4,4,3,1,4,2,1,1,4\n",
      " \n"
     ]
    }
   ],
   "source": [
    "for i in 8:15\n",
    "    pretty_print(i)\n",
    "    println(\" \")\n",
    "end"
   ]
  },
  {
   "cell_type": "code",
   "execution_count": null,
   "metadata": {},
   "outputs": [],
   "source": []
  }
 ],
 "metadata": {
  "kernelspec": {
   "display_name": "Julia 1.2.0",
   "language": "julia",
   "name": "julia-1.2"
  },
  "language_info": {
   "file_extension": ".jl",
   "mimetype": "application/julia",
   "name": "julia",
   "version": "1.2.0"
  },
  "toc": {
   "base_numbering": 1,
   "nav_menu": {},
   "number_sections": true,
   "sideBar": true,
   "skip_h1_title": true,
   "title_cell": "Table of Contents",
   "title_sidebar": "Table of Contents",
   "toc_cell": false,
   "toc_position": {},
   "toc_section_display": true,
   "toc_window_display": false
  },
  "varInspector": {
   "cols": {
    "lenName": 16,
    "lenType": 16,
    "lenVar": 40
   },
   "kernels_config": {
    "python": {
     "delete_cmd_postfix": "",
     "delete_cmd_prefix": "del ",
     "library": "var_list.py",
     "varRefreshCmd": "print(var_dic_list())"
    },
    "r": {
     "delete_cmd_postfix": ") ",
     "delete_cmd_prefix": "rm(",
     "library": "var_list.r",
     "varRefreshCmd": "cat(var_dic_list()) "
    }
   },
   "types_to_exclude": [
    "module",
    "function",
    "builtin_function_or_method",
    "instance",
    "_Feature"
   ],
   "window_display": false
  }
 },
 "nbformat": 4,
 "nbformat_minor": 2
}
